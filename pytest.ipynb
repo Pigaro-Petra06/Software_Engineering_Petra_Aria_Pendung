{
  "nbformat": 4,
  "nbformat_minor": 0,
  "metadata": {
    "colab": {
      "name": "pytest.ipynb",
      "provenance": [],
      "collapsed_sections": [],
      "authorship_tag": "ABX9TyP4L0UPJevbjWNlDTNW6W8b",
      "include_colab_link": true
    },
    "kernelspec": {
      "name": "python3",
      "display_name": "Python 3"
    },
    "language_info": {
      "name": "python"
    }
  },
  "cells": [
    {
      "cell_type": "markdown",
      "metadata": {
        "id": "view-in-github",
        "colab_type": "text"
      },
      "source": [
        "<a href=\"https://colab.research.google.com/github/Pigaro-Petra06/Software_Engineering_Petra_Aria_Pendung/blob/main/pytest.ipynb\" target=\"_parent\"><img src=\"https://colab.research.google.com/assets/colab-badge.svg\" alt=\"Open In Colab\"/></a>"
      ]
    },
    {
      "cell_type": "code",
      "metadata": {
        "id": "mQX9YgTGHmo3"
      },
      "source": [
        "# print(\"hai\") ==> command\n",
        "a = 10 # ==> integer\n",
        "b = 3.1421332 # ==> Float sama double tetep sama\n",
        "c = \"Pigaro\" # ==> String cukup tambah kutip\n",
        "d = \"Pigaro Inujuka\"\n",
        "f = True # ==> boolean\n",
        "g = False # ==> boolean\n",
        "h = [] # ==> list\n",
        "i = {} # ==> dictionary\n",
        "j = () # ==> tuple\n"
      ],
      "execution_count": 7,
      "outputs": []
    },
    {
      "cell_type": "code",
      "metadata": {
        "colab": {
          "base_uri": "https://localhost:8080/"
        },
        "id": "efvT7QCoMNl-",
        "outputId": "695d3254-f1e1-48d5-cbdf-cc64454c9a71"
      },
      "source": [
        "#Command\n",
        "#Print\n",
        "print(\"Pigaro Inujuka\")\n",
        "print(\"Hello\")"
      ],
      "execution_count": 8,
      "outputs": [
        {
          "output_type": "stream",
          "name": "stdout",
          "text": [
            "Pigaro Inujuka\n",
            "Hello\n"
          ]
        }
      ]
    },
    {
      "cell_type": "code",
      "metadata": {
        "colab": {
          "base_uri": "https://localhost:8080/"
        },
        "id": "FzMUW4FgMRWD",
        "outputId": "2df535e0-4daf-427a-8e65-1bf2fd6e12fc"
      },
      "source": [
        "print(2)\n",
        "print(3+10+15)"
      ],
      "execution_count": 9,
      "outputs": [
        {
          "output_type": "stream",
          "name": "stdout",
          "text": [
            "2\n",
            "28\n"
          ]
        }
      ]
    },
    {
      "cell_type": "code",
      "metadata": {
        "colab": {
          "base_uri": "https://localhost:8080/"
        },
        "id": "cVWY604SMU_6",
        "outputId": "274706a1-1dd4-47c1-c496-1b9d29851d38"
      },
      "source": [
        "print(d)\n",
        "\n",
        "#concate\n",
        "print(\"Hello My name \" + d)\n",
        "\n",
        "print(\"Hello My name {}\".format(d))"
      ],
      "execution_count": 13,
      "outputs": [
        {
          "output_type": "stream",
          "name": "stdout",
          "text": [
            "Pigaro Inujuka\n",
            "Hello My name Pigaro Inujuka\n",
            "Hello My name Pigaro Inujuka\n"
          ]
        }
      ]
    },
    {
      "cell_type": "code",
      "metadata": {
        "colab": {
          "base_uri": "https://localhost:8080/"
        },
        "id": "tpRA-67JMYC9",
        "outputId": "48d86766-998f-489e-e834-4b83ff3e6657"
      },
      "source": [
        "print(\"nilai adalah \" + str(a)) #ubah ke string dulu\n",
        "print(\"nilai adalah {}\".format(a))"
      ],
      "execution_count": 14,
      "outputs": [
        {
          "output_type": "stream",
          "name": "stdout",
          "text": [
            "nilai adalah 10\n",
            "nilai adalah 10\n"
          ]
        }
      ]
    },
    {
      "cell_type": "markdown",
      "metadata": {
        "id": "JJfvMFM6RLV4"
      },
      "source": [
        "List"
      ]
    },
    {
      "cell_type": "code",
      "metadata": {
        "colab": {
          "base_uri": "https://localhost:8080/"
        },
        "id": "dsXPKaMHM6z_",
        "outputId": "0c93b375-bb16-4e03-ebda-009562f5c915"
      },
      "source": [
        "print(\"My Name {}, My Final Score is {}, and i'm from Kalimantan {}\".format(d,a,f))"
      ],
      "execution_count": 15,
      "outputs": [
        {
          "output_type": "stream",
          "name": "stdout",
          "text": [
            "My Name Pigaro Inujuka, My Final Score is 10, and i'm from Kalimantan True\n"
          ]
        }
      ]
    },
    {
      "cell_type": "code",
      "metadata": {
        "id": "-L5DkvNHNb7T"
      },
      "source": [
        "Sekolah = [\"Mobil\", 20, True, 3.14, [\"budi\",\"Rani\",\"dodo\"], {\"Mobil\":\"ferari\"}]"
      ],
      "execution_count": 29,
      "outputs": []
    },
    {
      "cell_type": "code",
      "metadata": {
        "colab": {
          "base_uri": "https://localhost:8080/"
        },
        "id": "VbX5Oh4zN6De",
        "outputId": "67e1a4ca-0ace-415d-ae3f-cad34894e7d0"
      },
      "source": [
        "Sekolah[4]"
      ],
      "execution_count": 30,
      "outputs": [
        {
          "output_type": "execute_result",
          "data": {
            "text/plain": [
              "['budi', 'Rani', 'dodo']"
            ]
          },
          "metadata": {},
          "execution_count": 30
        }
      ]
    },
    {
      "cell_type": "code",
      "metadata": {
        "colab": {
          "base_uri": "https://localhost:8080/"
        },
        "id": "M_JntQ0FPFu0",
        "outputId": "cf35b7d8-5608-4d64-e212-3d2a3a0b06a0"
      },
      "source": [
        "Sekolah[4][0:2] #ngambil list yang di dalam list"
      ],
      "execution_count": 38,
      "outputs": [
        {
          "output_type": "execute_result",
          "data": {
            "text/plain": [
              "['budi', 'Rani']"
            ]
          },
          "metadata": {},
          "execution_count": 38
        }
      ]
    },
    {
      "cell_type": "code",
      "metadata": {
        "colab": {
          "base_uri": "https://localhost:8080/",
          "height": 35
        },
        "id": "h0VJp0qhPLIQ",
        "outputId": "0e5140b8-96b6-496e-beca-9885f6cf5400"
      },
      "source": [
        "Sekolah[-1][\"Mobil\"]"
      ],
      "execution_count": 33,
      "outputs": [
        {
          "output_type": "execute_result",
          "data": {
            "application/vnd.google.colaboratory.intrinsic+json": {
              "type": "string"
            },
            "text/plain": [
              "'ferari'"
            ]
          },
          "metadata": {},
          "execution_count": 33
        }
      ]
    },
    {
      "cell_type": "code",
      "metadata": {
        "id": "Qo69JJGwPVGC"
      },
      "source": [
        "Nama_Siswa = [\"budi\", \"bubu\",\"rara\",\"riri\",\"rana\",\"jojo\",\"juju\"]"
      ],
      "execution_count": 34,
      "outputs": []
    },
    {
      "cell_type": "code",
      "metadata": {
        "colab": {
          "base_uri": "https://localhost:8080/"
        },
        "id": "-UuB53_YVOeh",
        "outputId": "b6cc7960-6b80-4a99-e5b6-d8a029d320ab"
      },
      "source": [
        "Nama_Siswa[0:7:2]"
      ],
      "execution_count": 64,
      "outputs": [
        {
          "output_type": "execute_result",
          "data": {
            "text/plain": [
              "['budi', 'rara', 'rana', 'juju']"
            ]
          },
          "metadata": {},
          "execution_count": 64
        }
      ]
    },
    {
      "cell_type": "code",
      "metadata": {
        "colab": {
          "base_uri": "https://localhost:8080/"
        },
        "id": "5hLxPSbOPhkq",
        "outputId": "1e2b1ffd-3bc6-4cc9-de11-033802e8308a"
      },
      "source": [
        "Nama_Siswa[3:6] #Range ngambil list"
      ],
      "execution_count": 41,
      "outputs": [
        {
          "output_type": "execute_result",
          "data": {
            "text/plain": [
              "['riri', 'rana', 'jojo']"
            ]
          },
          "metadata": {},
          "execution_count": 41
        }
      ]
    },
    {
      "cell_type": "code",
      "metadata": {
        "colab": {
          "base_uri": "https://localhost:8080/"
        },
        "id": "hVSDixAyPr_m",
        "outputId": "67b59c6b-6b8f-4887-a3f6-36adfcb72a7a"
      },
      "source": [
        "Nama_Siswa[-3:] #Ngambil 3 dari belakang"
      ],
      "execution_count": 36,
      "outputs": [
        {
          "output_type": "execute_result",
          "data": {
            "text/plain": [
              "['rana', 'jojo', 'juju']"
            ]
          },
          "metadata": {},
          "execution_count": 36
        }
      ]
    },
    {
      "cell_type": "code",
      "metadata": {
        "id": "XlxzcV3IQXzm"
      },
      "source": [
        "Dict = {\"Mobil\":\"ferari\", 0:22, \"Boolean\":\"Benar\"}"
      ],
      "execution_count": 43,
      "outputs": []
    },
    {
      "cell_type": "code",
      "metadata": {
        "colab": {
          "base_uri": "https://localhost:8080/",
          "height": 35
        },
        "id": "uxIgBOu8QrYb",
        "outputId": "76df0154-390c-4b6d-a7d1-8f4681ba4151"
      },
      "source": [
        "Dict[\"Mobil\"]"
      ],
      "execution_count": 45,
      "outputs": [
        {
          "output_type": "execute_result",
          "data": {
            "application/vnd.google.colaboratory.intrinsic+json": {
              "type": "string"
            },
            "text/plain": [
              "'ferari'"
            ]
          },
          "metadata": {},
          "execution_count": 45
        }
      ]
    },
    {
      "cell_type": "code",
      "metadata": {
        "colab": {
          "base_uri": "https://localhost:8080/"
        },
        "id": "ax8AHopLQ194",
        "outputId": "9968449c-3c5f-4c7d-be37-ba15189123db"
      },
      "source": [
        "Dict[0]"
      ],
      "execution_count": 46,
      "outputs": [
        {
          "output_type": "execute_result",
          "data": {
            "text/plain": [
              "22"
            ]
          },
          "metadata": {},
          "execution_count": 46
        }
      ]
    },
    {
      "cell_type": "code",
      "metadata": {
        "colab": {
          "base_uri": "https://localhost:8080/",
          "height": 35
        },
        "id": "Zkfxx_R0REze",
        "outputId": "84aff6a8-1e36-4a44-b128-b6f333d8b87f"
      },
      "source": [
        "Dict[\"Boolean\"]"
      ],
      "execution_count": 47,
      "outputs": [
        {
          "output_type": "execute_result",
          "data": {
            "application/vnd.google.colaboratory.intrinsic+json": {
              "type": "string"
            },
            "text/plain": [
              "'Benar'"
            ]
          },
          "metadata": {},
          "execution_count": 47
        }
      ]
    },
    {
      "cell_type": "markdown",
      "metadata": {
        "id": "EheOvWqUSCvK"
      },
      "source": [
        "All List Shown Up"
      ]
    },
    {
      "cell_type": "code",
      "metadata": {
        "colab": {
          "base_uri": "https://localhost:8080/"
        },
        "id": "vrnydJ38Rjrs",
        "outputId": "a1cddbaf-c5d3-4f9d-879e-2152884e73c8"
      },
      "source": [
        "Sekolah[:] # all list shown"
      ],
      "execution_count": 55,
      "outputs": [
        {
          "output_type": "execute_result",
          "data": {
            "text/plain": [
              "['Mobil', 20, True, 3.14, ['budi', 'Rani', 'dodo'], {'Mobil': 'ferari'}]"
            ]
          },
          "metadata": {},
          "execution_count": 55
        }
      ]
    },
    {
      "cell_type": "code",
      "metadata": {
        "colab": {
          "base_uri": "https://localhost:8080/"
        },
        "id": "hKWYCuOrR8JV",
        "outputId": "d6fc944a-64b8-4c7f-ec87-579a8920e6db"
      },
      "source": [
        "Dict"
      ],
      "execution_count": 56,
      "outputs": [
        {
          "output_type": "execute_result",
          "data": {
            "text/plain": [
              "{0: 22, 'Boolean': 'Benar', 'Mobil': 'ferari'}"
            ]
          },
          "metadata": {},
          "execution_count": 56
        }
      ]
    },
    {
      "cell_type": "code",
      "metadata": {
        "colab": {
          "base_uri": "https://localhost:8080/"
        },
        "id": "7-QyYaXKR-q-",
        "outputId": "c195cae8-763d-4353-97b6-727a935fd950"
      },
      "source": [
        "Sekolah[0:7]"
      ],
      "execution_count": 57,
      "outputs": [
        {
          "output_type": "execute_result",
          "data": {
            "text/plain": [
              "['Mobil', 20, True, 3.14, ['budi', 'Rani', 'dodo'], {'Mobil': 'ferari'}]"
            ]
          },
          "metadata": {},
          "execution_count": 57
        }
      ]
    }
  ]
}