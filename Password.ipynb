{
  "nbformat": 4,
  "nbformat_minor": 0,
  "metadata": {
    "colab": {
      "name": "Password.ipynb",
      "provenance": [],
      "collapsed_sections": [],
      "authorship_tag": "ABX9TyPJZ7dWKZVibnXtNTp/fe9d",
      "include_colab_link": true
    },
    "kernelspec": {
      "name": "python3",
      "display_name": "Python 3"
    },
    "language_info": {
      "name": "python"
    }
  },
  "cells": [
    {
      "cell_type": "markdown",
      "metadata": {
        "id": "view-in-github",
        "colab_type": "text"
      },
      "source": [
        "<a href=\"https://colab.research.google.com/github/Pigaro-Petra06/Software_Engineering_Petra_Aria_Pendung/blob/main/Password.ipynb\" target=\"_parent\"><img src=\"https://colab.research.google.com/assets/colab-badge.svg\" alt=\"Open In Colab\"/></a>"
      ]
    },
    {
      "cell_type": "code",
      "metadata": {
        "id": "BMOXfy5Z9d6s"
      },
      "source": [
        "a = 0\n",
        "while True: \n",
        "  pasw = int(input())\n",
        "  if pasw == 2222:\n",
        "    print(\"Password Benar\")\n",
        "    break\n",
        "  elif a == 9 :\n",
        "    print(\"Akun Terblokir!\")\n",
        "    break\n",
        "  else :\n",
        "    print(\"Password Salah\")\n",
        "    a += 1\n",
        "    continue\n"
      ],
      "execution_count": null,
      "outputs": []
    }
  ]
}